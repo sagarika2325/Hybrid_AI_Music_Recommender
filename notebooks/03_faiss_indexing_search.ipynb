{
 "cells": [
  {
   "cell_type": "code",
   "execution_count": 2,
   "id": "c557b099-1bc5-4627-a924-6f6edf5b56af",
   "metadata": {},
   "outputs": [],
   "source": [
    "import numpy as np\n",
    "import faiss\n",
    "import pandas as pd\n"
   ]
  },
  {
   "cell_type": "code",
   "execution_count": 3,
   "id": "3bbe484f-b585-4f4f-a690-7a7e150b10f4",
   "metadata": {},
   "outputs": [
    {
     "name": "stdout",
     "output_type": "stream",
     "text": [
      "Embeddings shape: (232725, 384)\n",
      "DF shape: (232725, 19)\n"
     ]
    }
   ],
   "source": [
    "# Load song embeddings and the original DataFrame for reference\n",
    "embeddings = np.load('../data/song_embeddings.npy')\n",
    "df = pd.read_csv('../data/SpotifyFeatures_cleaned.csv')\n",
    "print(\"Embeddings shape:\", embeddings.shape)\n",
    "print(\"DF shape:\", df.shape)\n"
   ]
  },
  {
   "cell_type": "code",
   "execution_count": 4,
   "id": "837a6632-c789-4c5d-a29c-6f7d699c478b",
   "metadata": {},
   "outputs": [],
   "source": [
    "# Normalize embeddings for cosine similarity search\n",
    "embeddings_norm = embeddings / np.linalg.norm(embeddings, axis=1, keepdims=True)\n"
   ]
  },
  {
   "cell_type": "code",
   "execution_count": 5,
   "id": "78b9c5d8-b9b7-494b-aee3-a13b3d7f289b",
   "metadata": {},
   "outputs": [
    {
     "name": "stdout",
     "output_type": "stream",
     "text": [
      "Number of vectors indexed: 232725\n"
     ]
    }
   ],
   "source": [
    "# Build FAISS index for inner product (cosine similarity)\n",
    "dimension = embeddings_norm.shape[1]\n",
    "index = faiss.IndexFlatIP(dimension)  # Inner Product = Cosine when vectors are normalized\n",
    "index.add(embeddings_norm)\n",
    "print(\"Number of vectors indexed:\", index.ntotal)\n"
   ]
  },
  {
   "cell_type": "code",
   "execution_count": 6,
   "id": "42c2d0d7-91ab-461e-bb5d-e547e43f36ed",
   "metadata": {},
   "outputs": [
    {
     "name": "stdout",
     "output_type": "stream",
     "text": [
      "Query Song: C'est beau de faire un Show by Henri Salvador\n",
      "\n",
      "Top 5 Recommendations:\n",
      "- Faire des ronds dans l'eau by Henri Salvador (Genre: Movie)\n",
      "- La Vie C’est La Vie by Henri Salvador (Genre: Movie)\n",
      "- À Cannes cet été by Henri Salvador (Genre: Movie)\n",
      "- C'est étonnant, c'est Cannes by Henri Salvador (Genre: Movie)\n",
      "\n",
      "\n",
      "Index of first Pop song: 107802\n",
      "track_name     break up with your girlfriend, i'm bored\n",
      "artist_name                               Ariana Grande\n",
      "genre                                               Pop\n",
      "Name: 107802, dtype: object\n",
      "Query Song: break up with your girlfriend, i'm bored by Ariana Grande\n",
      "\n",
      "Top 5 Recommendations:\n",
      "- break up with your girlfriend, i'm bored by Ariana Grande (Genre: Dance)\n",
      "- Break Free by Ariana Grande (Genre: Pop)\n",
      "- Break Your Heart Right Back by Ariana Grande (Genre: Pop)\n",
      "- make up by Ariana Grande (Genre: Pop)\n",
      "- bad idea by Ariana Grande (Genre: Pop)\n"
     ]
    }
   ],
   "source": [
    "# Example: Find top-5 similar songs to the first song in the dataset\n",
    "query_vector = embeddings_norm[0].reshape(1, -1)\n",
    "D, I = index.search(query_vector, k=5)\n",
    "\n",
    "# Show results\n",
    "print(\"Query Song:\", df.iloc[0]['track_name'], \"by\", df.iloc[0]['artist_name'])\n",
    "print(\"\\nTop 5 Recommendations:\")\n",
    "for idx in I[0][1:]:\n",
    "    print(f\"- {df.iloc[idx]['track_name']} by {df.iloc[idx]['artist_name']} (Genre: {df.iloc[idx]['genre']})\")\n",
    "print(\"\\n\")\n",
    "# Find the first Pop song\n",
    "pop_idx = df[df['genre'] == 'Pop'].index[0]\n",
    "print(\"Index of first Pop song:\", pop_idx)\n",
    "print(df.iloc[pop_idx][['track_name', 'artist_name', 'genre']])\n",
    "# Set to pop_idx or hiphop_idx as needed\n",
    "query_idx = pop_idx  # or hiphop_idx\n",
    "query_vector = embeddings_norm[query_idx].reshape(1, -1)\n",
    "D, I = index.search(query_vector, k=6)\n",
    "\n",
    "print(\"Query Song:\", df.iloc[query_idx]['track_name'], \"by\", df.iloc[query_idx]['artist_name'])\n",
    "print(\"\\nTop 5 Recommendations:\")\n",
    "for idx in I[0][1:]:\n",
    "    print(f\"- {df.iloc[idx]['track_name']} by {df.iloc[idx]['artist_name']} (Genre: {df.iloc[idx]['genre']})\")\n"
   ]
  },
  {
   "cell_type": "code",
   "execution_count": 7,
   "id": "5a75cb26-d68b-47bb-b3e3-8db654371436",
   "metadata": {},
   "outputs": [
    {
     "name": "stdout",
     "output_type": "stream",
     "text": [
      "FAISS index saved!\n"
     ]
    }
   ],
   "source": [
    "faiss.write_index(index, '../data/faiss_song.index')\n",
    "print(\"FAISS index saved!\")\n"
   ]
  },
  {
   "cell_type": "code",
   "execution_count": 8,
   "id": "df9cec66-dfb0-4d10-babe-090697727b25",
   "metadata": {},
   "outputs": [],
   "source": [
    "#Hybrid Ranking (Similarity + Popularity or More)\n",
    "#Choose your query index (example: first Pop song)\n",
    "query_idx = pop_idx  # (or any song index you want)\n",
    "query_vector = embeddings_norm[query_idx].reshape(1, -1)\n",
    "\n",
    "# Get top-k candidates from FAISS (excluding query itself)\n",
    "k = 20  # Get more than 5 so hybrid ranking can reorder them\n",
    "D, I = index.search(query_vector, k=k+1)\n",
    "candidate_indices = I[0][1:]           # indices of candidate songs\n",
    "similarity_scores = D[0][1:]           # similarity scores (cosine similarity)\n"
   ]
  },
  {
   "cell_type": "code",
   "execution_count": 9,
   "id": "53411aa5-dbcb-4c3b-b038-e882b4c494f0",
   "metadata": {},
   "outputs": [],
   "source": [
    "# Get popularity scores for these candidates\n",
    "popularity_scores = df.iloc[candidate_indices]['popularity'].values\n",
    "\n",
    "# Normalize to 0-1 (min-max scaling)\n",
    "pop_min = popularity_scores.min()\n",
    "pop_max = popularity_scores.max()\n",
    "pop_norm = (popularity_scores - pop_min) / (pop_max - pop_min + 1e-8)\n"
   ]
  },
  {
   "cell_type": "code",
   "execution_count": 10,
   "id": "57c78506-9ab9-450f-9746-3fdd8cab30b3",
   "metadata": {},
   "outputs": [],
   "source": [
    "# Set weights (adjust as you like)\n",
    "weight_similarity = 0.7\n",
    "weight_popularity = 0.3\n",
    "\n",
    "# Calculate hybrid score for each candidate\n",
    "hybrid_scores = (weight_similarity * similarity_scores) + (weight_popularity * pop_norm)\n"
   ]
  },
  {
   "cell_type": "code",
   "execution_count": 11,
   "id": "39599581-ea59-47f7-9b28-6d2369a797b5",
   "metadata": {},
   "outputs": [
    {
     "name": "stdout",
     "output_type": "stream",
     "text": [
      "Hybrid Top 5 Recommendations:\n",
      "- break up with your girlfriend, i'm bored by Ariana Grande (Genre: Dance, Popularity: 99)\n",
      "- bad idea by Ariana Grande (Genre: Pop, Popularity: 91)\n",
      "- make up by Ariana Grande (Genre: Pop, Popularity: 87)\n",
      "- Into You by Ariana Grande (Genre: Pop, Popularity: 84)\n",
      "- Side To Side by Ariana Grande (Genre: Pop, Popularity: 84)\n"
     ]
    }
   ],
   "source": [
    "# Sort candidates by hybrid score (descending)\n",
    "sorted_indices = np.argsort(-hybrid_scores)\n",
    "top_n = 5  # Number of recommendations to show\n",
    "\n",
    "print(\"Hybrid Top 5 Recommendations:\")\n",
    "for idx in sorted_indices[:top_n]:\n",
    "    song_idx = candidate_indices[idx]\n",
    "    song = df.iloc[song_idx]\n",
    "    print(f\"- {song['track_name']} by {song['artist_name']} (Genre: {song['genre']}, Popularity: {song['popularity']})\")\n"
   ]
  },
  {
   "cell_type": "code",
   "execution_count": 12,
   "id": "feff7894-22c3-4f3d-b5b0-fb0ce7ac0ca8",
   "metadata": {},
   "outputs": [
    {
     "name": "stdout",
     "output_type": "stream",
     "text": [
      "Query Song: break up with your girlfriend, i'm bored by Ariana Grande (Genre: Pop)\n",
      "\n",
      "--- Top 5 Recommendations (Similarity: 0.9, Popularity: 0.1) ---\n",
      "- break up with your girlfriend, i'm bored by Ariana Grande (Genre: Dance, Popularity: 99)\n",
      "- bad idea by Ariana Grande (Genre: Pop, Popularity: 91)\n",
      "- make up by Ariana Grande (Genre: Pop, Popularity: 87)\n",
      "- Break Free by Ariana Grande (Genre: Pop, Popularity: 78)\n",
      "- Into You by Ariana Grande (Genre: Pop, Popularity: 84)\n",
      "\n",
      "--- Top 5 Recommendations (Similarity: 0.7, Popularity: 0.3) ---\n",
      "- break up with your girlfriend, i'm bored by Ariana Grande (Genre: Dance, Popularity: 99)\n",
      "- bad idea by Ariana Grande (Genre: Pop, Popularity: 91)\n",
      "- make up by Ariana Grande (Genre: Pop, Popularity: 87)\n",
      "- Into You by Ariana Grande (Genre: Pop, Popularity: 84)\n",
      "- Side To Side by Ariana Grande (Genre: Pop, Popularity: 84)\n",
      "\n",
      "--- Top 5 Recommendations (Similarity: 0.5, Popularity: 0.5) ---\n",
      "- break up with your girlfriend, i'm bored by Ariana Grande (Genre: Dance, Popularity: 99)\n",
      "- bad idea by Ariana Grande (Genre: Pop, Popularity: 91)\n",
      "- make up by Ariana Grande (Genre: Pop, Popularity: 87)\n",
      "- Into You by Ariana Grande (Genre: Pop, Popularity: 84)\n",
      "- Side To Side by Ariana Grande (Genre: Pop, Popularity: 84)\n",
      "\n"
     ]
    }
   ],
   "source": [
    "# --- Parameters ---\n",
    "query_idx = pop_idx  # or any other song index you want\n",
    "k = 20               # candidates to consider before re-ranking\n",
    "top_n = 5            # how many final recommendations to show\n",
    "\n",
    "# --- Hybrid ratio settings to test ---\n",
    "ratios = [\n",
    "    (0.9, 0.1),\n",
    "    (0.7, 0.3),\n",
    "    (0.5, 0.5)\n",
    "]\n",
    "\n",
    "# --- Get FAISS candidates ---\n",
    "query_vector = embeddings_norm[query_idx].reshape(1, -1)\n",
    "D, I = index.search(query_vector, k=k+1)\n",
    "candidate_indices = I[0][1:]      # candidate song indices (excluding query itself)\n",
    "similarity_scores = D[0][1:]\n",
    "\n",
    "# --- Normalize popularity ---\n",
    "popularity_scores = df.iloc[candidate_indices]['popularity'].values\n",
    "pop_min = popularity_scores.min()\n",
    "pop_max = popularity_scores.max()\n",
    "pop_norm = (popularity_scores - pop_min) / (pop_max - pop_min + 1e-8)\n",
    "\n",
    "# --- Show recommendations for each ratio ---\n",
    "print(f\"Query Song: {df.iloc[query_idx]['track_name']} by {df.iloc[query_idx]['artist_name']} (Genre: {df.iloc[query_idx]['genre']})\\n\")\n",
    "\n",
    "for w_sim, w_pop in ratios:\n",
    "    hybrid_scores = (w_sim * similarity_scores) + (w_pop * pop_norm)\n",
    "    sorted_indices = np.argsort(-hybrid_scores)\n",
    "    print(f\"--- Top {top_n} Recommendations (Similarity: {w_sim}, Popularity: {w_pop}) ---\")\n",
    "    for idx in sorted_indices[:top_n]:\n",
    "        song_idx = candidate_indices[idx]\n",
    "        song = df.iloc[song_idx]\n",
    "        print(f\"- {song['track_name']} by {song['artist_name']} (Genre: {song['genre']}, Popularity: {song['popularity']})\")\n",
    "    print()\n"
   ]
  },
  {
   "cell_type": "code",
   "execution_count": 13,
   "id": "02309410-9ea1-4cdd-8ef6-c20ffa337f44",
   "metadata": {},
   "outputs": [],
   "source": [
    "# Get valence and danceability for candidates\n",
    "valence_scores = df.iloc[candidate_indices]['valence'].values\n",
    "danceability_scores = df.iloc[candidate_indices]['danceability'].values\n",
    "\n",
    "# Normalize to 0-1\n",
    "valence_norm = (valence_scores - valence_scores.min()) / (valence_scores.max() - valence_scores.min() + 1e-8)\n",
    "danceability_norm = (danceability_scores - danceability_scores.min()) / (danceability_scores.max() - danceability_scores.min() + 1e-8)\n"
   ]
  },
  {
   "cell_type": "code",
   "execution_count": 14,
   "id": "44fc78c8-1870-4bc1-bd63-9928998a97f6",
   "metadata": {},
   "outputs": [],
   "source": [
    "# 1 if genre matches, else 0 (can use 0.5 for partial matches)\n",
    "query_genre = df.iloc[query_idx]['genre']\n",
    "genre_match = (df.iloc[candidate_indices]['genre'] == query_genre).astype(float).values\n"
   ]
  },
  {
   "cell_type": "code",
   "execution_count": 15,
   "id": "d81deb5f-fbda-4f06-be09-a649000c8d69",
   "metadata": {},
   "outputs": [],
   "source": [
    "# Fixed hybrid weights for all future recommendations\n",
    "weight_similarity = 0.6\n",
    "weight_popularity = 0.15\n",
    "weight_valence = 0.1\n",
    "weight_danceability = 0.1\n",
    "weight_genre = 0.05\n"
   ]
  },
  {
   "cell_type": "code",
   "execution_count": 16,
   "id": "3f5caf5b-a6f7-420c-9e26-eb88e661b513",
   "metadata": {},
   "outputs": [],
   "source": [
    "hybrid_scores = (\n",
    "    weight_similarity * similarity_scores +\n",
    "    weight_popularity * pop_norm +\n",
    "    weight_valence * valence_norm +\n",
    "    weight_danceability * danceability_norm +\n",
    "    weight_genre * genre_match\n",
    ")\n"
   ]
  },
  {
   "cell_type": "code",
   "execution_count": 17,
   "id": "df253a89-8431-4295-9931-6c83440b396a",
   "metadata": {},
   "outputs": [
    {
     "name": "stdout",
     "output_type": "stream",
     "text": [
      "Hybrid Top 5 Recommendations (Main Blend):\n",
      "- bad idea by Ariana Grande (Genre: Pop, Popularity: 91, Valence: 0.57, Dance: 0.85, GenreMatch: 1.0)\n",
      "- break up with your girlfriend, i'm bored by Ariana Grande (Genre: Dance, Popularity: 99, Valence: 0.34, Dance: 0.73, GenreMatch: 0.0)\n",
      "- make up by Ariana Grande (Genre: Pop, Popularity: 87, Valence: 0.48, Dance: 0.67, GenreMatch: 1.0)\n",
      "- Side To Side by Ariana Grande (Genre: Pop, Popularity: 84, Valence: 0.61, Dance: 0.65, GenreMatch: 1.0)\n",
      "- Problem by Ariana Grande (Genre: Pop, Popularity: 77, Valence: 0.62, Dance: 0.66, GenreMatch: 1.0)\n"
     ]
    }
   ],
   "source": [
    "sorted_indices = np.argsort(-hybrid_scores)\n",
    "top_n = 5\n",
    "\n",
    "print(\"Hybrid Top 5 Recommendations (Main Blend):\")\n",
    "for idx in sorted_indices[:top_n]:\n",
    "    song_idx = candidate_indices[idx]\n",
    "    song = df.iloc[song_idx]\n",
    "    print(f\"- {song['track_name']} by {song['artist_name']} (Genre: {song['genre']}, Popularity: {song['popularity']}, Valence: {song['valence']:.2f}, Dance: {song['danceability']:.2f}, GenreMatch: {genre_match[idx]})\")\n"
   ]
  },
  {
   "cell_type": "code",
   "execution_count": 18,
   "id": "cbced787-8b38-4cdb-ad70-adf0ac002452",
   "metadata": {},
   "outputs": [
    {
     "name": "stdout",
     "output_type": "stream",
     "text": [
      "Query Song: break up with your girlfriend, i'm bored by Ariana Grande (Genre: Pop)\n",
      "\n",
      "--- Top 5 Recommendations (sim: 0.5, pop: 0.2, val: 0.15, dance: 0.1, genre: 0.05) ---\n",
      "- bad idea by Ariana Grande (Genre: Pop, Pop: 91, Valence: 0.57, Dance: 0.85, GenreMatch: 1.0)\n",
      "- break up with your girlfriend, i'm bored by Ariana Grande (Genre: Dance, Pop: 99, Valence: 0.34, Dance: 0.73, GenreMatch: 0.0)\n",
      "- make up by Ariana Grande (Genre: Pop, Pop: 87, Valence: 0.48, Dance: 0.67, GenreMatch: 1.0)\n",
      "- Side To Side by Ariana Grande (Genre: Pop, Pop: 84, Valence: 0.61, Dance: 0.65, GenreMatch: 1.0)\n",
      "- Greedy by Ariana Grande (Genre: Pop, Pop: 72, Valence: 0.84, Dance: 0.62, GenreMatch: 1.0)\n",
      "\n",
      "--- Top 5 Recommendations (sim: 0.6, pop: 0.15, val: 0.1, dance: 0.1, genre: 0.05) ---\n",
      "- bad idea by Ariana Grande (Genre: Pop, Pop: 91, Valence: 0.57, Dance: 0.85, GenreMatch: 1.0)\n",
      "- break up with your girlfriend, i'm bored by Ariana Grande (Genre: Dance, Pop: 99, Valence: 0.34, Dance: 0.73, GenreMatch: 0.0)\n",
      "- make up by Ariana Grande (Genre: Pop, Pop: 87, Valence: 0.48, Dance: 0.67, GenreMatch: 1.0)\n",
      "- Side To Side by Ariana Grande (Genre: Pop, Pop: 84, Valence: 0.61, Dance: 0.65, GenreMatch: 1.0)\n",
      "- Problem by Ariana Grande (Genre: Pop, Pop: 77, Valence: 0.62, Dance: 0.66, GenreMatch: 1.0)\n",
      "\n",
      "--- Top 5 Recommendations (sim: 0.4, pop: 0.3, val: 0.1, dance: 0.1, genre: 0.1) ---\n",
      "- bad idea by Ariana Grande (Genre: Pop, Pop: 91, Valence: 0.57, Dance: 0.85, GenreMatch: 1.0)\n",
      "- break up with your girlfriend, i'm bored by Ariana Grande (Genre: Dance, Pop: 99, Valence: 0.34, Dance: 0.73, GenreMatch: 0.0)\n",
      "- make up by Ariana Grande (Genre: Pop, Pop: 87, Valence: 0.48, Dance: 0.67, GenreMatch: 1.0)\n",
      "- Side To Side by Ariana Grande (Genre: Pop, Pop: 84, Valence: 0.61, Dance: 0.65, GenreMatch: 1.0)\n",
      "- Into You by Ariana Grande (Genre: Pop, Pop: 84, Valence: 0.37, Dance: 0.62, GenreMatch: 1.0)\n",
      "\n"
     ]
    }
   ],
   "source": [
    "# Parameters\n",
    "query_idx = pop_idx  # Or any song index you want\n",
    "k = 20               # Number of FAISS candidates\n",
    "top_n = 5            # How many recommendations to show\n",
    "\n",
    "# Hybrid weight settings to test (all should sum to 1)\n",
    "ratios = [\n",
    "    # (similarity, popularity, valence, danceability, genre)\n",
    "    (0.5, 0.2, 0.15, 0.1, 0.05),\n",
    "    (0.6, 0.15, 0.1, 0.1, 0.05),\n",
    "    (0.4, 0.3, 0.1, 0.1, 0.1),\n",
    "]\n",
    "\n",
    "# Get FAISS candidates\n",
    "query_vector = embeddings_norm[query_idx].reshape(1, -1)\n",
    "D, I = index.search(query_vector, k=k+1)\n",
    "candidate_indices = I[0][1:]      # candidate song indices (excluding query itself)\n",
    "similarity_scores = D[0][1:]\n",
    "\n",
    "# Normalize additional features\n",
    "popularity_scores = df.iloc[candidate_indices]['popularity'].values\n",
    "pop_min = popularity_scores.min(); pop_max = popularity_scores.max()\n",
    "pop_norm = (popularity_scores - pop_min) / (pop_max - pop_min + 1e-8)\n",
    "\n",
    "valence_scores = df.iloc[candidate_indices]['valence'].values\n",
    "valence_norm = (valence_scores - valence_scores.min()) / (valence_scores.max() - valence_scores.min() + 1e-8)\n",
    "\n",
    "danceability_scores = df.iloc[candidate_indices]['danceability'].values\n",
    "danceability_norm = (danceability_scores - danceability_scores.min()) / (danceability_scores.max() - danceability_scores.min() + 1e-8)\n",
    "\n",
    "query_genre = df.iloc[query_idx]['genre']\n",
    "genre_match = (df.iloc[candidate_indices]['genre'] == query_genre).astype(float).values\n",
    "\n",
    "print(f\"Query Song: {df.iloc[query_idx]['track_name']} by {df.iloc[query_idx]['artist_name']} (Genre: {df.iloc[query_idx]['genre']})\\n\")\n",
    "\n",
    "for w_sim, w_pop, w_val, w_dance, w_genre in ratios:\n",
    "    hybrid_scores = (\n",
    "        w_sim * similarity_scores +\n",
    "        w_pop * pop_norm +\n",
    "        w_val * valence_norm +\n",
    "        w_dance * danceability_norm +\n",
    "        w_genre * genre_match\n",
    "    )\n",
    "    sorted_indices = np.argsort(-hybrid_scores)\n",
    "    print(f\"--- Top {top_n} Recommendations (sim: {w_sim}, pop: {w_pop}, val: {w_val}, dance: {w_dance}, genre: {w_genre}) ---\")\n",
    "    for idx in sorted_indices[:top_n]:\n",
    "        song_idx = candidate_indices[idx]\n",
    "        song = df.iloc[song_idx]\n",
    "        print(f\"- {song['track_name']} by {song['artist_name']} (Genre: {song['genre']}, Pop: {song['popularity']}, Valence: {song['valence']:.2f}, Dance: {song['danceability']:.2f}, GenreMatch: {genre_match[idx]})\")\n",
    "    print()\n"
   ]
  },
  {
   "cell_type": "code",
   "execution_count": 19,
   "id": "af194cdc-6132-47b8-bdb1-281b298dfc02",
   "metadata": {},
   "outputs": [
    {
     "name": "stdout",
     "output_type": "stream",
     "text": [
      "Query: Angel (Live) | Top recommendations:\n",
      "- No Angel\n",
      "- Angel (Live)\n",
      "- Angel - Recorded At Spotify Studios NYC\n",
      "- No Angel\n",
      "- That Was Then\n",
      "Query: Forever, For Always, For Love | Top recommendations:\n",
      "- Love, Love, Love\n",
      "- Angel (Live)\n",
      "- Steady Love\n",
      "- Always In My Head\n",
      "- That Was Then\n",
      "Average Recall@5: 0.51\n"
     ]
    }
   ],
   "source": [
    "# --- Evaluation: Simulated User Recall@5 ---\n",
    "#\n",
    "# To evaluate our recommender system, we simulate users who like multiple songs from the same artist\n",
    "# (e.g., all George Strait or Ariana Grande tracks).\n",
    "# For each simulated user, we:\n",
    "#   - Randomly pick an artist with enough songs.\n",
    "#   - Select a set of \"liked\" songs by that artist.\n",
    "#   - For each song, use it as a query and check if other liked songs appear in the top-5 recommendations.\n",
    "#   - Compute Recall@5: fraction of a user's remaining liked songs retrieved in top-5 recommendations.\n",
    "# This gives a realistic measure of how well the system surfaces other relevant favorites for a user,\n",
    "# which is especially important in music or content recommendation settings.\n",
    "\n",
    "\n",
    "import random\n",
    "\n",
    "num_users = 5\n",
    "songs_per_user = 10\n",
    "k = 5\n",
    "recall_scores = []\n",
    "\n",
    "# Find all artists with enough songs\n",
    "artists = df['artist_name'].value_counts()\n",
    "good_artists = artists[artists > songs_per_user].index.tolist()\n",
    "\n",
    "for user in range(num_users):\n",
    "    artist = random.choice(good_artists)\n",
    "    artist_songs = df[df['artist_name'] == artist].index.tolist()\n",
    "    liked_indices = random.sample(artist_songs, songs_per_user)\n",
    "    \n",
    "    for i, query_idx in enumerate(liked_indices):\n",
    "        ground_truth = set(liked_indices[:i] + liked_indices[i+1:])\n",
    "        \n",
    "        query_vector = embeddings_norm[query_idx].reshape(1, -1)\n",
    "        D, I = index.search(query_vector, 20)\n",
    "        candidate_indices = I[0][1:]\n",
    "\n",
    "        # Hybrid scoring as before\n",
    "        popularity_scores = df.iloc[candidate_indices]['popularity'].values\n",
    "        pop_min = popularity_scores.min(); pop_max = popularity_scores.max()\n",
    "        pop_norm = (popularity_scores - pop_min) / (pop_max - pop_min + 1e-8)\n",
    "        valence_scores = df.iloc[candidate_indices]['valence'].values\n",
    "        valence_norm = (valence_scores - valence_scores.min()) / (valence_scores.max() - valence_scores.min() + 1e-8)\n",
    "        danceability_scores = df.iloc[candidate_indices]['danceability'].values\n",
    "        danceability_norm = (danceability_scores - danceability_scores.min()) / (danceability_scores.max() - danceability_scores.min() + 1e-8)\n",
    "        query_genre = df.iloc[query_idx]['genre']\n",
    "        genre_match = (df.iloc[candidate_indices]['genre'] == query_genre).astype(float).values\n",
    "\n",
    "        hybrid_scores = (\n",
    "            weight_similarity * D[0][1:] +\n",
    "            weight_popularity * pop_norm +\n",
    "            weight_valence * valence_norm +\n",
    "            weight_danceability * danceability_norm +\n",
    "            weight_genre * genre_match\n",
    "        )\n",
    "        sorted_indices = np.argsort(-hybrid_scores)\n",
    "        top_indices = [candidate_indices[idx] for idx in sorted_indices[:k]]\n",
    "        hits = len(set(top_indices) & ground_truth)\n",
    "        recall = hits / min(k, len(ground_truth)) if ground_truth else 0\n",
    "        recall_scores.append(recall)\n",
    "        \n",
    "        # Print queries and recommendations for illustration\n",
    "        if user == 0 and i < 2:\n",
    "            print(\"Query:\", df.iloc[query_idx]['track_name'], \"| Top recommendations:\")\n",
    "            for ti in top_indices:\n",
    "                print(\"-\", df.iloc[ti]['track_name'])\n",
    "\n",
    "print(f\"Average Recall@{k}: {np.mean(recall_scores):.2f}\")\n"
   ]
  },
  {
   "cell_type": "code",
   "execution_count": 21,
   "id": "a670a327-00f9-4bcb-9cb8-53af67db685c",
   "metadata": {},
   "outputs": [
    {
     "name": "stdout",
     "output_type": "stream",
     "text": [
      "FAISS sample index created and saved!\n"
     ]
    }
   ],
   "source": [
    "\n",
    "\n",
    "# Load sample DataFrame and embeddings\n",
    "df_sample = pd.read_csv('../data/SpotifyFeatures_sample.csv')\n",
    "embeddings_sample = np.load('../data/song_embeddings_sample.npy')\n",
    "\n",
    "# Normalize embeddings (for cosine similarity search)\n",
    "embeddings_norm = embeddings_sample / np.linalg.norm(embeddings_sample, axis=1, keepdims=True)\n",
    "\n",
    "# Build FAISS index (Inner Product is cosine similarity if vectors are normalized)\n",
    "index = faiss.IndexFlatIP(embeddings_norm.shape[1])\n",
    "index.add(embeddings_norm.astype('float32'))\n",
    "\n",
    "# Save the index\n",
    "faiss.write_index(index, '../data/faiss_song_sample.index')\n",
    "\n",
    "print(\"FAISS sample index created and saved!\")\n"
   ]
  },
  {
   "cell_type": "code",
   "execution_count": null,
   "id": "c4bc7a97-bd03-454c-afa8-89bf3418dea2",
   "metadata": {},
   "outputs": [],
   "source": []
  }
 ],
 "metadata": {
  "kernelspec": {
   "display_name": "Python 3 (ipykernel)",
   "language": "python",
   "name": "python3"
  },
  "language_info": {
   "codemirror_mode": {
    "name": "ipython",
    "version": 3
   },
   "file_extension": ".py",
   "mimetype": "text/x-python",
   "name": "python",
   "nbconvert_exporter": "python",
   "pygments_lexer": "ipython3",
   "version": "3.12.1"
  }
 },
 "nbformat": 4,
 "nbformat_minor": 5
}
